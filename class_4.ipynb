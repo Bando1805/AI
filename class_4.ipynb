{
 "cells": [
  {
   "cell_type": "code",
   "execution_count": 1,
   "metadata": {},
   "outputs": [
    {
     "name": "stderr",
     "output_type": "stream",
     "text": [
      "C:\\Users\\18gia\\AppData\\Local\\Packages\\PythonSoftwareFoundation.Python.3.10_qbz5n2kfra8p0\\LocalCache\\local-packages\\Python310\\site-packages\\tqdm\\auto.py:22: TqdmWarning: IProgress not found. Please update jupyter and ipywidgets. See https://ipywidgets.readthedocs.io/en/stable/user_install.html\n",
      "  from .autonotebook import tqdm as notebook_tqdm\n"
     ]
    }
   ],
   "source": [
    "import torch\n",
    "import torch.nn.functional as F\n",
    "import matplotlib.pyplot as plt"
   ]
  },
  {
   "cell_type": "code",
   "execution_count": 2,
   "metadata": {},
   "outputs": [],
   "source": [
    "with open('names.txt', 'r') as f:\n",
    "    words = f.read().split('\\n')"
   ]
  },
  {
   "cell_type": "code",
   "execution_count": 3,
   "metadata": {},
   "outputs": [
    {
     "name": "stdout",
     "output_type": "stream",
     "text": [
      "27\n"
     ]
    }
   ],
   "source": [
    "#characters mapping\n",
    "chars = sorted(list(set(''.join(words))))\n",
    "stoi = {s:i+1 for i,s in enumerate(chars)} \n",
    "stoi['.'] = 0\n",
    "itos = {i:s for s,i in stoi.items()}\n",
    "vocab_size = len(chars)+1\n",
    "print(vocab_size)"
   ]
  },
  {
   "cell_type": "code",
   "execution_count": 4,
   "metadata": {},
   "outputs": [
    {
     "name": "stdout",
     "output_type": "stream",
     "text": [
      "torch.Size([182625, 3]) torch.Size([182625])\n",
      "torch.Size([22655, 3]) torch.Size([22655])\n",
      "torch.Size([22866, 3]) torch.Size([22866])\n"
     ]
    }
   ],
   "source": [
    "block_size = 3\n",
    "def build_dataset(words):\n",
    "    global block_size\n",
    "    X , Y = [],[]\n",
    "\n",
    "    for word in words:\n",
    "\n",
    "        context = [0] * block_size\n",
    "        #print(word)\n",
    "        for ch in word + '.':\n",
    "            X.append(context)\n",
    "            ix = stoi[ch]\n",
    "            Y.append(ix)\n",
    "            # print(''.join(itos[i] for i in context),'--->',itos[ix])\n",
    "            #update context\n",
    "            context = context[1:] + [ix]\n",
    "    \n",
    "    X = torch.tensor(X)\n",
    "    Y = torch.tensor(Y)\n",
    "    print(X.shape, Y.shape)\n",
    "\n",
    "    return X, Y\n",
    "\n",
    "import random \n",
    "random.seed(42)\n",
    "random.shuffle(words)\n",
    "n1 = int(len(words) * 0.8)\n",
    "n2 = int(len(words) * 0.9)\n",
    "\n",
    "Xtr, Ytr = build_dataset(words[:n1])\n",
    "Xdev, Ydev = build_dataset(words[n1:n2])\n",
    "Xtest, Ytest = build_dataset(words[n2:])\n",
    "    "
   ]
  },
  {
   "attachments": {},
   "cell_type": "markdown",
   "metadata": {},
   "source": [
    "we see that the initial loss is very high : 27ish\n",
    "this means that the weights are not initialized properly, indeed they have very large values\n",
    "since there are 27 characters we can expect the initial loss to be arounf - log(1/27) = 3.3\n",
    "we can fix this by initializing the weights scaling down the initial logits\n",
    "we can therefore bring to 0 the tensor b2 and scale down the tensor W2 by multyplying it by 0.1\n",
    "\n",
    "By doing this we see that the loss has doesn't have anymore a hockey stick shape.Indeed by removing\n",
    "the large values of the logits we remove the easy gains of squashing down the logits to be more uniform\n",
    "IN this way the model gets even better because  it spends more time on the hard learnings\n",
    "\n",
    "----------------------------------------------------------------------------\n",
    "\n",
    "we also see that a lot of the h values are 1 or -1, this means that the tanh function is saturating.\n",
    "we can fix this by scaling down the initial weights of the hidden layer\n",
    "we can therefore bring to 0 the tensor b1 and scale down the tensor W1 by multyplying it by 0.1\n",
    "if the tanh is saturating it means that the gradient is 0, and the weights are not updated\n",
    "therefore undermining the learning process\n",
    "it can happens that a neuron is completely dead ig by chanche all the inputs that connects to him \n",
    "provocate the tanh to be -1 or 1, and therefore the gradient is 0\n",
    "\n",
    "we can also cause a neuron to be dead by using a learning rate that is too high\n",
    "indeed having a high learning rate means that the gradient is multiplied by a large number\n",
    "which makes more likely h to be -1 or 1, and therefore the gradient is 0"
   ]
  },
  {
   "cell_type": "code",
   "execution_count": 5,
   "metadata": {},
   "outputs": [
    {
     "name": "stdout",
     "output_type": "stream",
     "text": [
      "12097\n"
     ]
    }
   ],
   "source": [
    "#MLP\n",
    "n_emb = 10 #the dimneisonality of the character embedding vector\n",
    "n_hidden = 200 #number of neurons in the hidden layer of the MLP\n",
    "\n",
    "g = torch.Generator().manual_seed(2147483647)\n",
    "C = torch.randn((vocab_size,n_emb),                     generator=g)\n",
    "W1 = torch.randn((n_emb * block_size, n_hidden),        generator=g) * (5/3) / (n_emb * block_size) ** 0.5 #this is the squashing constant that we use to make the variance of the weights in h equal to 1\n",
    "#b1 = torch.randn(n_hidden,                              generator=g) * 0.01\n",
    "W2 = torch.randn((n_hidden, vocab_size),                generator=g) * 0.01\n",
    "b2 = torch.randn(vocab_size,                            generator=g) *0\n",
    "\n",
    "#these gains and biases are added to let the wights move and distort the normal distrubution as they want\n",
    "bngain = torch.ones(1,n_hidden) \n",
    "bnbias = torch.zeros(1,n_hidden)\n",
    "bnmean_running = torch.zeros(1,n_hidden)\n",
    "bnstd_running = torch.ones(1,n_hidden)\n",
    "\n",
    "\n",
    "\n",
    "#these gains and biases are added to let the wights move and distort the normal distrubution as they want\n",
    "bngain = torch.zeros(1,n_hidden) \n",
    "bnbias = torch.zeros(1,n_hidden)\n",
    "bnmean_running = torch.zeros(1,n_hidden)\n",
    "bnstd_running = torch.zeros(1,n_hidden)\n",
    "\n",
    "\n",
    "parameters = [C, W1, W2, b2,bngain, bnbias]\n",
    "print(sum(p.numel() for p in parameters)) #number of parameters in the model\n",
    "for p in parameters:\n",
    "    p.requires_grad = True"
   ]
  },
  {
   "cell_type": "code",
   "execution_count": 6,
   "metadata": {},
   "outputs": [
    {
     "ename": "SyntaxError",
     "evalue": "invalid syntax (4108134847.py, line 15)",
     "output_type": "error",
     "traceback": [
      "\u001b[1;36m  Cell \u001b[1;32mIn [6], line 15\u001b[1;36m\u001b[0m\n\u001b[1;33m    hpreact = embcat @ W1 + # b1 #pre-activation of the hidden layer\u001b[0m\n\u001b[1;37m                            ^\u001b[0m\n\u001b[1;31mSyntaxError\u001b[0m\u001b[1;31m:\u001b[0m invalid syntax\n"
     ]
    },
    {
     "ename": "",
     "evalue": "",
     "output_type": "error",
     "traceback": [
      "\u001b[1;31mThe Kernel crashed while executing code in the the current cell or a previous cell. Please review the code in the cell(s) to identify a possible cause of the failure. Click <a href='https://aka.ms/vscodeJupyterKernelCrash'>here</a> for more info. View Jupyter <a href='command:jupyter.viewOutput'>log</a> for further details."
     ]
    }
   ],
   "source": [
    "#same optimization for all parameters\n",
    "max_steps = 30000\n",
    "batch_size = 32\n",
    "lossi = []\n",
    "\n",
    "for i in range(max_steps):\n",
    "\n",
    "    #mini-batch\n",
    "    ix = torch.randint(0, Xtr.shape[0], (batch_size,)) #random indices\n",
    "    Xb, Yb = Xtr[ix], Ytr[ix] #batch of X and Y\n",
    "\n",
    "    #forward pass\n",
    "    emb = C[Xb] #embedding lookup\n",
    "    embcat = emb.view(emb.shape[0],-1) #concatenation of the embeddings\n",
    "    hpreact = embcat @ W1 + # b1 #pre-activation of the hidden layer\n",
    "    bnmeani = hpreact.mean(dim = 0, keepdim = True)\n",
    "    bnstdi = hpreact.std(dim = 0, keepdim = True)\n",
    "    hpreact = bngain * (hpreact - bnmeani) / bnstdi + bnbias\n",
    "\n",
    "    with torch.no_grad(): #these are values that we save on the side, there's no need to build a graph since we don't backprogate on them. this make the process more efficient\n",
    "        bnmean_running = 0.999 * bnmean_running + 0.001 * bnmeani\n",
    "        bnstd_running =  0.999 * bnstd_running  + 0.001 * bnstdi\n",
    "\n",
    "    h = torch.tanh(hpreact) #hidden layer\n",
    "    logits = h @ W2 + b2 #logits\n",
    "    loss = F.cross_entropy(logits, Yb) #loss \n",
    "\n",
    "    #backward pass\n",
    "    for p in parameters:\n",
    "        p.grad = None\n",
    "    loss.backward()\n",
    "\n",
    "    #grad updating\n",
    "    lr = 0.1 if i < max_steps/2 else 0.01 #learning rate decay\n",
    "    for p in parameters:\n",
    "        p.data += - lr * p.grad #gradient descent\n",
    "\n",
    "    #tracking stats\n",
    "    if i%10000 == 0: \n",
    "        print( f'{i:7d}/{max_steps:7d} loss: {loss.item():.3f}') #loss at step i \n",
    "    lossi.append(loss.log10().item())\n",
    "\n",
    "\n",
    "    "
   ]
  },
  {
   "cell_type": "code",
   "execution_count": null,
   "metadata": {},
   "outputs": [
    {
     "data": {
      "text/plain": [
       "<matplotlib.image.AxesImage at 0x27c3e5706d0>"
      ]
     },
     "execution_count": 50,
     "metadata": {},
     "output_type": "execute_result"
    },
    {
     "data": {
      "image/png": "[encoded data removed]",
      "text/plain": [
       "<Figure size 2000x1000 with 1 Axes>"
      ]
     },
     "metadata": {},
     "output_type": "display_data"
    }
   ],
   "source": [
    "plt.figure(figsize = (20,10))\n",
    "plt.imshow(h.abs() > 0.99, cmap = 'gray', interpolation = 'nearest')"
   ]
  },
  {
   "cell_type": "code",
   "execution_count": null,
   "metadata": {},
   "outputs": [
    {
     "data": {
      "image/png": "[encoded data removed]",
      "text/plain": [
       "<Figure size 640x480 with 1 Axes>"
      ]
     },
     "metadata": {},
     "output_type": "display_data"
    }
   ],
   "source": [
    "plt.hist(h.view(-1).tolist(),50);"
   ]
  },
  {
   "cell_type": "code",
   "execution_count": null,
   "metadata": {},
   "outputs": [
    {
     "data": {
      "image/png": "[encoded data removed]",
      "text/plain": [
       "<Figure size 640x480 with 1 Axes>"
      ]
     },
     "metadata": {},
     "output_type": "display_data"
    }
   ],
   "source": [
    "plt.hist(hpreact.view(-1).tolist(),50);"
   ]
  },
  {
   "cell_type": "code",
   "execution_count": null,
   "metadata": {},
   "outputs": [
    {
     "name": "stdout",
     "output_type": "stream",
     "text": [
      "train 2.1605958938598633\n",
      "val 2.1729342937469482\n"
     ]
    }
   ],
   "source": [
    "@torch.no_grad() #no need to track gradients since we are not doing a backward pass, and we are not updating the parameters. This will make the code run faster\n",
    "def split_loss(split):\n",
    "    x,y =  {\n",
    "        'train' : (Xtr, Ytr),\n",
    "        'val' : (Xdev, Ydev),\n",
    "        'test' : (Xtest, Ytest)\n",
    "    }[split]\n",
    "    emb = C[x] #embedding lookup\n",
    "    embcat = emb.view(emb.shape[0],-1) #concatenation of the embeddings\n",
    "    hpreact = embcat @ W1 + b1 #pre-activation of the hidden layer\n",
    "    hpreact = bngain * (hpreact - bnmean_running) / bnstd_running + bnbias #we use bnmean_running and bnstd_running to get meaningful mean and std eveb when the input example is one\n",
    "    h = torch.tanh(hpreact) #hidden layer\n",
    "    logits = h @ W2 + b2 #logits\n",
    "    loss = F.cross_entropy(logits, y) #loss\n",
    "    print(split, loss.item())\n",
    "\n",
    "split_loss('train')\n",
    "split_loss('val')"
   ]
  },
  {
   "cell_type": "code",
   "execution_count": null,
   "metadata": {},
   "outputs": [],
   "source": [
    "#sampling from the model\n",
    "for _ in range(20):\n",
    "   out =[]\n",
    "   context = [0]*block_size\n",
    "\n",
    "   while True:\n",
    "      emb = C[torch.tensor([context])] #1,2,3 \n",
    "      h = torch.tanh(emb.view(1,-1) @ W1 + b1)\n",
    "      logits = h @ W2 + b2\n",
    "      probs = F.softmax(logits, dim = 1)\n",
    "      ix = torch.multinomial(probs, num_samples = 1).item()\n",
    "      context = context[1:] + [ix]\n",
    "      out.append(ix)\n",
    "      if ix == 0:\n",
    "         break\n",
    "\n",
    "   print(''.join(itos[i] for i in out))"
   ]
  }
 ],
 "metadata": {
  "kernelspec": {
   "display_name": "Python 3",
   "language": "python",
   "name": "python3"
  },
  "language_info": {
   "codemirror_mode": {
    "name": "ipython",
    "version": 3
   },
   "file_extension": ".py",
   "mimetype": "text/x-python",
   "name": "python",
   "nbconvert_exporter": "python",
   "pygments_lexer": "ipython3",
   "version": "3.10.10"
  },
  "orig_nbformat": 4,
  "vscode": {
   "interpreter": {
    "hash": "166ec3b1c466d025881b3168ffea78040cf02218c3ecc06e4bd76e23952cc283"
   }
  }
 },
 "nbformat": 4,
 "nbformat_minor": 2
}
