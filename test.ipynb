{
 "cells": [
  {
   "cell_type": "code",
   "execution_count": null,
   "metadata": {},
   "outputs": [],
   "source": [
    "test = 1"
   ]
  },
  {
   "cell_type": "code",
   "execution_count": 6,
   "metadata": {},
   "outputs": [],
   "source": [
    "import pandas as pd\n",
    "\n",
    "# Create a sample data frame\n",
    "data = {'Name': ['Alice', 'Bob', 'Charlie', 'Alice', 'Bob', 'Charlie', 'Alice', 'Bob', 'Charlie'],\n",
    "        'Year': [2019, 2019, 2019, 2020, 2020, 2020, 2021, 2021, 2021],\n",
    "        'Sales': [100, 200, 150, 250, 300, 200, 350, 400, 250]}\n",
    "\n",
    "df = pd.DataFrame(data)\n",
    "\n",
    "# Create a pivot table with Name as rows, Year as columns, and Sales as values\n",
    "pivot_table = pd.pivot_table(df, values='Sales', index='Name', columns='Year')\n",
    "\n",
    "# Print the pivot table\n",
    "data = pd.DataFrame(pivot_table)\n",
    "data = data.values\n"
   ]
  },
  {
   "cell_type": "code",
   "execution_count": null,
   "metadata": {},
   "outputs": [],
   "source": [
    "import numpy as np\n",
    "import matplotlib.pyplot as plt\n",
    "\n",
    "\n",
    "# Plot the heatmap\n",
    "fig, ax = plt.subplots()\n",
    "im = ax.imshow(data)\n",
    "\n",
    "# Show the values in each cell\n",
    "for i in range(data.shape[0]):\n",
    "    for j in range(data.shape[1]):\n",
    "        text = ax.text(j, i, round(data[i, j], 2), ha=\"center\", va=\"center\", color=\"w\")\n",
    "\n",
    "# Set the x-axis and y-axis ticks\n",
    "ax.set_xticks(np.arange(data.shape[1]))\n",
    "ax.set_yticks(np.arange(data.shape[0]))\n",
    "\n",
    "# Set the x-axis and y-axis tick labels\n",
    "ax.set_xticklabels(np.arange(1, data.shape[1]+1))\n",
    "ax.set_yticklabels(np.arange(1, data.shape[0]+1))\n",
    "\n",
    "# Set the plot title and color bar\n",
    "ax.set_title(\"Heatmap with Values\")\n",
    "cbar = ax.figure.colorbar(im, ax=ax)\n",
    "\n",
    "plt.show()"
   ]
  }
 ],
 "metadata": {
  "kernelspec": {
   "display_name": "Python 3",
   "language": "python",
   "name": "python3"
  },
  "language_info": {
   "codemirror_mode": {
    "name": "ipython",
    "version": 3
   },
   "file_extension": ".py",
   "mimetype": "text/x-python",
   "name": "python",
   "nbconvert_exporter": "python",
   "pygments_lexer": "ipython3",
   "version": "3.10.10"
  },
  "orig_nbformat": 4,
  "vscode": {
   "interpreter": {
    "hash": "166ec3b1c466d025881b3168ffea78040cf02218c3ecc06e4bd76e23952cc283"
   }
  }
 },
 "nbformat": 4,
 "nbformat_minor": 2
}
